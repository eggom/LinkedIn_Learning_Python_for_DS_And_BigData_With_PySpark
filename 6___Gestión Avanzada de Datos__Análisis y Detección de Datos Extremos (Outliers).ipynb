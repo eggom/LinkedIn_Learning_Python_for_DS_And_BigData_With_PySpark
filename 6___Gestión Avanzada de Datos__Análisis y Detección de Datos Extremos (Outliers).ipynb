{
 "cells": [
  {
   "cell_type": "markdown",
   "metadata": {},
   "source": [
    "# Análisis de Valores Extremos (Outliers)\n",
    "\n",
    "2 maneras para realizar dicho análisis:\n",
    "\n",
    "* Criterio de una sola variable (la manera más clásica)\n",
    "* Aproximación multidimensional"
   ]
  },
  {
   "cell_type": "code",
   "execution_count": 1,
   "metadata": {},
   "outputs": [],
   "source": [
    "import pandas as pd\n",
    "import numpy as np"
   ]
  },
  {
   "cell_type": "code",
   "execution_count": 2,
   "metadata": {},
   "outputs": [],
   "source": [
    "df = pd.read_csv(\"./data_src/DelayedFlights.csv\", nrows=400000)"
   ]
  },
  {
   "cell_type": "code",
   "execution_count": 5,
   "metadata": {},
   "outputs": [],
   "source": [
    "df = df.sample(250000)"
   ]
  },
  {
   "cell_type": "code",
   "execution_count": 33,
   "metadata": {},
   "outputs": [],
   "source": [
    "# Seleccionamos la variable de ArrDelay y quitamos NaN\n",
    "x = df[\"ArrDelay\"].dropna()"
   ]
  },
  {
   "cell_type": "markdown",
   "metadata": {},
   "source": [
    "### Regla del IQR para detección de outliers"
   ]
  },
  {
   "cell_type": "code",
   "execution_count": 12,
   "metadata": {},
   "outputs": [],
   "source": [
    "# Obtenemos los cuartiles de dicha variable y el IQR. Esto lo hacemos para la posterior definición de umbral superior\n",
    "# y umbral inferior para la determinación de outliers\n",
    "length = len(x)\n",
    "Q1 = np.percentile(x,25)\n",
    "Q3 = np.percentile(x,75)\n",
    "IQR = Q3-Q1"
   ]
  },
  {
   "cell_type": "code",
   "execution_count": 13,
   "metadata": {},
   "outputs": [],
   "source": [
    "umbral_superior = Q3 + 1.5*IQR\n",
    "umbral_inferior = Q1 - 1.5*IQR"
   ]
  },
  {
   "cell_type": "code",
   "execution_count": 14,
   "metadata": {},
   "outputs": [
    {
     "data": {
      "text/plain": [
       "127.5"
      ]
     },
     "execution_count": 14,
     "metadata": {},
     "output_type": "execute_result"
    }
   ],
   "source": [
    "umbral_superior"
   ]
  },
  {
   "cell_type": "code",
   "execution_count": 16,
   "metadata": {},
   "outputs": [
    {
     "data": {
      "text/plain": [
       "-60.5"
      ]
     },
     "execution_count": 16,
     "metadata": {},
     "output_type": "execute_result"
    }
   ],
   "source": [
    "umbral_inferior"
   ]
  },
  {
   "cell_type": "markdown",
   "metadata": {},
   "source": [
    "Con esto hemos obtenido que cualquier valor de 'x' que esté por encima de 127.5 será considerado un atípico (por arriba) de nuestra distribución. Y cualquier valor por debajo de -60.5 (en este caso tiempo negativo es que el avión llega antes de su hora, luego tiene sentido) será considerado un atípico (por debajo) de nuestra distribución."
   ]
  },
  {
   "cell_type": "code",
   "execution_count": 22,
   "metadata": {},
   "outputs": [
    {
     "data": {
      "text/plain": [
       "17584"
      ]
     },
     "execution_count": 22,
     "metadata": {},
     "output_type": "execute_result"
    }
   ],
   "source": [
    "# Para conocer el número total de valores de x que se considerarían outliers:\n",
    "sum(x > umbral_superior)"
   ]
  },
  {
   "cell_type": "code",
   "execution_count": 29,
   "metadata": {},
   "outputs": [
    {
     "data": {
      "text/plain": [
       "7.0626415821859485"
      ]
     },
     "execution_count": 29,
     "metadata": {},
     "output_type": "execute_result"
    }
   ],
   "source": [
    "# Esto supone un % del total de valores en x\n",
    "(sum(x > umbral_superior) / length)*100\n",
    "\n",
    "# También se puede calcular com:\n",
    "np.mean(x > umbral_superior)*100"
   ]
  },
  {
   "cell_type": "code",
   "execution_count": 32,
   "metadata": {},
   "outputs": [
    {
     "data": {
      "text/plain": [
       "0.0012049547740308148"
      ]
     },
     "execution_count": 32,
     "metadata": {},
     "output_type": "execute_result"
    }
   ],
   "source": [
    "# Y para el caso de atípicos por debajo:\n",
    "np.mean(x < umbral_inferior)*100"
   ]
  },
  {
   "cell_type": "markdown",
   "metadata": {},
   "source": [
    "### Uso del paquete EllipticEnvelope de sklearn.covariance para estudiar varias variables a la vez"
   ]
  },
  {
   "cell_type": "code",
   "execution_count": 34,
   "metadata": {},
   "outputs": [],
   "source": [
    "from sklearn.covariance import EllipticEnvelope"
   ]
  },
  {
   "cell_type": "code",
   "execution_count": 35,
   "metadata": {},
   "outputs": [],
   "source": [
    "# Creamos el objeto 'outliers' de tipo EllipticEnvelope con parámetro contamination=.01\n",
    "#\n",
    "# Esto nos crea este objeto \"transformador\" (un modelo) que lo que hace es, con dicho valor de parámetro, seleccionar\n",
    "# el 1% de datos que considere \"más alejados\" de nuestros datos más centrados\n",
    "\n",
    "outliers = EllipticEnvelope(contamination=.01)"
   ]
  },
  {
   "cell_type": "code",
   "execution_count": 36,
   "metadata": {},
   "outputs": [],
   "source": [
    "# Elegimos ahora un conjunto de variables cuantativas presentes en nuestro dataframe de las cuáles queremos analizar la\n",
    "# presencia de outliers\n",
    "\n",
    "var_ls = [\"DepDelay\",\"TaxiIn\",\"TaxiOut\",\"CarrierDelay\",\"WeatherDelay\",\"NASDelay\",\"SecurityDelay\",\"LateAircraftDelay\"]"
   ]
  },
  {
   "cell_type": "markdown",
   "metadata": {},
   "source": [
    "El empleo de EllipticEnvelope para selección de outliers presume que las variables del análisis siguen distribuciones normales y por supuesto son cuantitativas. Esto realmente no lo sabemos en este caso nos vale como recursos didáctico."
   ]
  },
  {
   "cell_type": "code",
   "execution_count": 51,
   "metadata": {},
   "outputs": [
    {
     "data": {
      "text/plain": [
       "array([[23., 12., 15., ..., 19.,  0.,  2.],\n",
       "       [13.,  3., 18., ...,  4.,  0.,  1.],\n",
       "       [21.,  6.,  7., ...,  0.,  0.,  0.],\n",
       "       ...,\n",
       "       [38.,  5., 36., ..., 36.,  0., 23.],\n",
       "       [59.,  5.,  5., ...,  0.,  0., 51.],\n",
       "       [48.,  3., 12., ...,  2.,  0., 48.]])"
      ]
     },
     "execution_count": 51,
     "metadata": {},
     "output_type": "execute_result"
    }
   ],
   "source": [
    "# Al objeto EllipticEnvelope no puedo pasarle NaN con lo que debo eliminarlos.\n",
    "\n",
    "# Asimismo el conjunto de valores tiene que pasarse al método .fit mejor si es np.array\n",
    "\n",
    "x = np.array(df.loc[:,var_ls].dropna())\n",
    "x"
   ]
  },
  {
   "cell_type": "code",
   "execution_count": 49,
   "metadata": {},
   "outputs": [
    {
     "data": {
      "text/plain": [
       "EllipticEnvelope(contamination=0.01)"
      ]
     },
     "execution_count": 49,
     "metadata": {},
     "output_type": "execute_result"
    }
   ],
   "source": [
    "# Entrenamos el objeto transformador (es decir, fiteamos)\n",
    "\n",
    "outliers.fit(x)"
   ]
  },
  {
   "cell_type": "code",
   "execution_count": 56,
   "metadata": {},
   "outputs": [
    {
     "data": {
      "text/plain": [
       "array([1, 1, 1, ..., 1, 1, 1])"
      ]
     },
     "execution_count": 56,
     "metadata": {},
     "output_type": "execute_result"
    }
   ],
   "source": [
    "# Con el objeto ya entrenado podemos acudir al método .predict para determinar qué valores son considerados outliers:\n",
    "\n",
    "pred_outliers = outliers.predict(x)\n",
    "pred_outliers"
   ]
  },
  {
   "cell_type": "code",
   "execution_count": 67,
   "metadata": {},
   "outputs": [
    {
     "data": {
      "text/plain": [
       "array([    49,    271,    363, ..., 165214, 165308, 165331], dtype=int64)"
      ]
     },
     "execution_count": 67,
     "metadata": {},
     "output_type": "execute_result"
    }
   ],
   "source": [
    "# Nos devuelve un array de 1 y -1 indicando con -1 que obs/registro es un outlier\n",
    "\n",
    "elips_outliers = np.where(pred_outliers==-1)[0]\n",
    "elips_outliers"
   ]
  },
  {
   "cell_type": "code",
   "execution_count": 78,
   "metadata": {},
   "outputs": [
    {
     "data": {
      "text/html": [
       "<div>\n",
       "<style scoped>\n",
       "    .dataframe tbody tr th:only-of-type {\n",
       "        vertical-align: middle;\n",
       "    }\n",
       "\n",
       "    .dataframe tbody tr th {\n",
       "        vertical-align: top;\n",
       "    }\n",
       "\n",
       "    .dataframe thead th {\n",
       "        text-align: right;\n",
       "    }\n",
       "</style>\n",
       "<table border=\"1\" class=\"dataframe\">\n",
       "  <thead>\n",
       "    <tr style=\"text-align: right;\">\n",
       "      <th></th>\n",
       "      <th>index</th>\n",
       "      <th>DepDelay</th>\n",
       "      <th>TaxiIn</th>\n",
       "      <th>TaxiOut</th>\n",
       "      <th>CarrierDelay</th>\n",
       "      <th>WeatherDelay</th>\n",
       "      <th>NASDelay</th>\n",
       "      <th>SecurityDelay</th>\n",
       "      <th>LateAircraftDelay</th>\n",
       "    </tr>\n",
       "  </thead>\n",
       "  <tbody>\n",
       "    <tr>\n",
       "      <th>49</th>\n",
       "      <td>331810</td>\n",
       "      <td>906.0</td>\n",
       "      <td>14.0</td>\n",
       "      <td>25.0</td>\n",
       "      <td>906.0</td>\n",
       "      <td>0.0</td>\n",
       "      <td>4.0</td>\n",
       "      <td>0.0</td>\n",
       "      <td>0.0</td>\n",
       "    </tr>\n",
       "    <tr>\n",
       "      <th>271</th>\n",
       "      <td>121416</td>\n",
       "      <td>420.0</td>\n",
       "      <td>6.0</td>\n",
       "      <td>7.0</td>\n",
       "      <td>0.0</td>\n",
       "      <td>0.0</td>\n",
       "      <td>418.0</td>\n",
       "      <td>0.0</td>\n",
       "      <td>40.0</td>\n",
       "    </tr>\n",
       "    <tr>\n",
       "      <th>363</th>\n",
       "      <td>178927</td>\n",
       "      <td>261.0</td>\n",
       "      <td>6.0</td>\n",
       "      <td>14.0</td>\n",
       "      <td>0.0</td>\n",
       "      <td>0.0</td>\n",
       "      <td>242.0</td>\n",
       "      <td>0.0</td>\n",
       "      <td>0.0</td>\n",
       "    </tr>\n",
       "    <tr>\n",
       "      <th>488</th>\n",
       "      <td>44926</td>\n",
       "      <td>234.0</td>\n",
       "      <td>3.0</td>\n",
       "      <td>25.0</td>\n",
       "      <td>0.0</td>\n",
       "      <td>0.0</td>\n",
       "      <td>230.0</td>\n",
       "      <td>0.0</td>\n",
       "      <td>0.0</td>\n",
       "    </tr>\n",
       "    <tr>\n",
       "      <th>489</th>\n",
       "      <td>69788</td>\n",
       "      <td>210.0</td>\n",
       "      <td>5.0</td>\n",
       "      <td>18.0</td>\n",
       "      <td>0.0</td>\n",
       "      <td>0.0</td>\n",
       "      <td>296.0</td>\n",
       "      <td>0.0</td>\n",
       "      <td>0.0</td>\n",
       "    </tr>\n",
       "    <tr>\n",
       "      <th>...</th>\n",
       "      <td>...</td>\n",
       "      <td>...</td>\n",
       "      <td>...</td>\n",
       "      <td>...</td>\n",
       "      <td>...</td>\n",
       "      <td>...</td>\n",
       "      <td>...</td>\n",
       "      <td>...</td>\n",
       "      <td>...</td>\n",
       "    </tr>\n",
       "    <tr>\n",
       "      <th>165040</th>\n",
       "      <td>96051</td>\n",
       "      <td>73.0</td>\n",
       "      <td>5.0</td>\n",
       "      <td>309.0</td>\n",
       "      <td>0.0</td>\n",
       "      <td>32.0</td>\n",
       "      <td>278.0</td>\n",
       "      <td>0.0</td>\n",
       "      <td>41.0</td>\n",
       "    </tr>\n",
       "    <tr>\n",
       "      <th>165090</th>\n",
       "      <td>59296</td>\n",
       "      <td>234.0</td>\n",
       "      <td>8.0</td>\n",
       "      <td>65.0</td>\n",
       "      <td>0.0</td>\n",
       "      <td>0.0</td>\n",
       "      <td>275.0</td>\n",
       "      <td>0.0</td>\n",
       "      <td>0.0</td>\n",
       "    </tr>\n",
       "    <tr>\n",
       "      <th>165214</th>\n",
       "      <td>172886</td>\n",
       "      <td>377.0</td>\n",
       "      <td>11.0</td>\n",
       "      <td>41.0</td>\n",
       "      <td>0.0</td>\n",
       "      <td>0.0</td>\n",
       "      <td>381.0</td>\n",
       "      <td>0.0</td>\n",
       "      <td>0.0</td>\n",
       "    </tr>\n",
       "    <tr>\n",
       "      <th>165308</th>\n",
       "      <td>332098</td>\n",
       "      <td>959.0</td>\n",
       "      <td>16.0</td>\n",
       "      <td>48.0</td>\n",
       "      <td>959.0</td>\n",
       "      <td>0.0</td>\n",
       "      <td>33.0</td>\n",
       "      <td>0.0</td>\n",
       "      <td>0.0</td>\n",
       "    </tr>\n",
       "    <tr>\n",
       "      <th>165331</th>\n",
       "      <td>125065</td>\n",
       "      <td>210.0</td>\n",
       "      <td>5.0</td>\n",
       "      <td>63.0</td>\n",
       "      <td>0.0</td>\n",
       "      <td>0.0</td>\n",
       "      <td>241.0</td>\n",
       "      <td>0.0</td>\n",
       "      <td>7.0</td>\n",
       "    </tr>\n",
       "  </tbody>\n",
       "</table>\n",
       "<p>1658 rows × 9 columns</p>\n",
       "</div>"
      ],
      "text/plain": [
       "         index  DepDelay  TaxiIn  TaxiOut  CarrierDelay  WeatherDelay  \\\n",
       "49      331810     906.0    14.0     25.0         906.0           0.0   \n",
       "271     121416     420.0     6.0      7.0           0.0           0.0   \n",
       "363     178927     261.0     6.0     14.0           0.0           0.0   \n",
       "488      44926     234.0     3.0     25.0           0.0           0.0   \n",
       "489      69788     210.0     5.0     18.0           0.0           0.0   \n",
       "...        ...       ...     ...      ...           ...           ...   \n",
       "165040   96051      73.0     5.0    309.0           0.0          32.0   \n",
       "165090   59296     234.0     8.0     65.0           0.0           0.0   \n",
       "165214  172886     377.0    11.0     41.0           0.0           0.0   \n",
       "165308  332098     959.0    16.0     48.0         959.0           0.0   \n",
       "165331  125065     210.0     5.0     63.0           0.0           0.0   \n",
       "\n",
       "        NASDelay  SecurityDelay  LateAircraftDelay  \n",
       "49           4.0            0.0                0.0  \n",
       "271        418.0            0.0               40.0  \n",
       "363        242.0            0.0                0.0  \n",
       "488        230.0            0.0                0.0  \n",
       "489        296.0            0.0                0.0  \n",
       "...          ...            ...                ...  \n",
       "165040     278.0            0.0               41.0  \n",
       "165090     275.0            0.0                0.0  \n",
       "165214     381.0            0.0                0.0  \n",
       "165308      33.0            0.0                0.0  \n",
       "165331     241.0            0.0                7.0  \n",
       "\n",
       "[1658 rows x 9 columns]"
      ]
     },
     "execution_count": 78,
     "metadata": {},
     "output_type": "execute_result"
    }
   ],
   "source": [
    "# 'elips_outliers' es ahora un array con el valor de los indices de pred_outliers que es = -1 y que, a su vez, pues son\n",
    "# los índices de x que son outliers :))\n",
    "\n",
    "df.loc[:,var_ls].dropna().reset_index().loc[elips_outliers]"
   ]
  },
  {
   "cell_type": "markdown",
   "metadata": {},
   "source": [
    "En total EllipticEnvelope ha detectado 1658 observaciones como outliers"
   ]
  }
 ],
 "metadata": {
  "kernelspec": {
   "display_name": "Python 3",
   "language": "python",
   "name": "python3"
  },
  "language_info": {
   "codemirror_mode": {
    "name": "ipython",
    "version": 3
   },
   "file_extension": ".py",
   "mimetype": "text/x-python",
   "name": "python",
   "nbconvert_exporter": "python",
   "pygments_lexer": "ipython3",
   "version": "3.7.7"
  }
 },
 "nbformat": 4,
 "nbformat_minor": 4
}

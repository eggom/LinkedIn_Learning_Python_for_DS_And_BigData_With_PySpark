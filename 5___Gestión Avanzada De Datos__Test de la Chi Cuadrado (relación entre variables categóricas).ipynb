{
 "cells": [
  {
   "cell_type": "markdown",
   "metadata": {},
   "source": [
    "# Test de la Chi Cuadrado en Python\n",
    "\n",
    "Este test es famosísimo y muy útil ya que:\n",
    "\n",
    "* Aporta un criterio sólido para encontrar relaciones entre variables cualitativas usando las tablas de contingencia\n",
    "\n",
    "$$\n",
    "\\chi^2=\\sum_{i=1}^{k} \\frac{(valor.observado_{i}-valor.esperado_{i})^2}{valor.esperado_{i}}\n",
    "$$\n",
    "\n",
    "El fundamento de este test es comparar la suma de diferencias al cuadrado entre lo que estamos observando, es decir, nuestros datos reales, y aquello que cabría esperar en una situación donde no existe ninguna relación entre variables.\n",
    "\n",
    "Esto permite cuantificar la magnitud de todas estas distancias, compararlas con una distribución, que es la de 'Chi' cuadrado, y decidir si podemos afirmar que estas variables están relacionadas significativamente.\n",
    "\n",
    "**Una de las debilidades de este test** es que no permite cuantificar cada una de las relaciones entre categorías, pero permite afirmaciones globales del tipo:\n",
    "\n",
    "* \"fumar está relacionado significativamente con el cáncer de pulmón\".\n",
    "\n",
    "Y, aun así, una exploración visual de las tablas permite determinar en qué dirección se da esta relación. después de esta breve introducción, vamos a ver un ejemplo de código sobre datos de aerolíneas"
   ]
  },
  {
   "cell_type": "code",
   "execution_count": 7,
   "metadata": {},
   "outputs": [],
   "source": [
    "import pandas as pd\n",
    "import numpy as np\n",
    "df = pd.read_csv(\"./data_src/DelayedFlights.csv\", nrows=350000)"
   ]
  },
  {
   "cell_type": "code",
   "execution_count": 8,
   "metadata": {},
   "outputs": [],
   "source": [
    "# Marcamos semilla\n",
    "np.random.seed(42)"
   ]
  },
  {
   "cell_type": "code",
   "execution_count": 9,
   "metadata": {},
   "outputs": [],
   "source": [
    "# Nos quedamos solo con los vuelos que parten de HOU, SFO e IND\n",
    "\n",
    "df = df[df[\"Origin\"].isin([\"HOU\",\"SFO\",\"IND\"])]"
   ]
  },
  {
   "cell_type": "code",
   "execution_count": 18,
   "metadata": {},
   "outputs": [],
   "source": [
    "# Sampelizamos el dataframe\n",
    "\n",
    "df = df.sample(frac=1)"
   ]
  },
  {
   "cell_type": "markdown",
   "metadata": {},
   "source": [
    "### Nuestro Objetivo Último de Análisis\n",
    "\n",
    "El objetivo último de análisis es conocer si el aeropuerto de salida del avión tiene influencia o no en el hecho de que el avión se retrase mucho o no.\n",
    "\n",
    "El aeropuerto de salida del avión está detallado en 'Origin'. Que el avión se retrase mucho o no, no está definido directamente, por lo que deberemos \"ingenierizar\" una nueva variable.\n",
    "\n",
    "Es decir, creamos una nueva variable en nuestro dataframe de tipo True/False. Dicha variable hace referencia a si el avión se ha retrasado mucho (True) o no (False).\n",
    "\n",
    "Para mí, \"retrasarse mucho\" es retrasarse más de 45 minutos"
   ]
  },
  {
   "cell_type": "code",
   "execution_count": 19,
   "metadata": {},
   "outputs": [],
   "source": [
    "# Creo la variable\n",
    "\n",
    "df[\"BigDelay\"] = df[\"ArrDelay\"] > 45"
   ]
  },
  {
   "cell_type": "markdown",
   "metadata": {},
   "source": [
    "### Creación de una tabla de contingencia con 'crosstab'\n",
    "\n",
    "Una vez creada dicha variable, ya tenemos los dos elementos del análisis:\n",
    "\n",
    "* El aeropuerto de origen\n",
    "* El avión ha sufrido un retraso fuerte o no.\n",
    "\n",
    "Como puede verse se trata de dos variables categóricas y, por tanto, una tabla de contingencia (también llamada de clasificación cruzada) es una de las formas más comunes de resumir datos categóricos.\n",
    "\n",
    "\n",
    "Pandas tiene su propio método para la creación de tablas de contingencia con .crosstab(···)\n",
    "\n",
    "[Más info de Tablas de Contingencia aquí](http://halweb.uc3m.es/esp/Personal/personas/jmmarin/esp/Categor/Tema2Cate.pdf)"
   ]
  },
  {
   "cell_type": "code",
   "execution_count": 23,
   "metadata": {},
   "outputs": [
    {
     "data": {
      "text/html": [
       "<div>\n",
       "<style scoped>\n",
       "    .dataframe tbody tr th:only-of-type {\n",
       "        vertical-align: middle;\n",
       "    }\n",
       "\n",
       "    .dataframe tbody tr th {\n",
       "        vertical-align: top;\n",
       "    }\n",
       "\n",
       "    .dataframe thead th {\n",
       "        text-align: right;\n",
       "    }\n",
       "</style>\n",
       "<table border=\"1\" class=\"dataframe\">\n",
       "  <thead>\n",
       "    <tr style=\"text-align: right;\">\n",
       "      <th>Origin</th>\n",
       "      <th>HOU</th>\n",
       "      <th>IND</th>\n",
       "      <th>SFO</th>\n",
       "      <th>All</th>\n",
       "    </tr>\n",
       "    <tr>\n",
       "      <th>BigDelay</th>\n",
       "      <th></th>\n",
       "      <th></th>\n",
       "      <th></th>\n",
       "      <th></th>\n",
       "    </tr>\n",
       "  </thead>\n",
       "  <tbody>\n",
       "    <tr>\n",
       "      <th>False</th>\n",
       "      <td>2695</td>\n",
       "      <td>1246</td>\n",
       "      <td>4401</td>\n",
       "      <td>8342</td>\n",
       "    </tr>\n",
       "    <tr>\n",
       "      <th>True</th>\n",
       "      <td>930</td>\n",
       "      <td>639</td>\n",
       "      <td>4008</td>\n",
       "      <td>5577</td>\n",
       "    </tr>\n",
       "    <tr>\n",
       "      <th>All</th>\n",
       "      <td>3625</td>\n",
       "      <td>1885</td>\n",
       "      <td>8409</td>\n",
       "      <td>13919</td>\n",
       "    </tr>\n",
       "  </tbody>\n",
       "</table>\n",
       "</div>"
      ],
      "text/plain": [
       "Origin     HOU   IND   SFO    All\n",
       "BigDelay                         \n",
       "False     2695  1246  4401   8342\n",
       "True       930   639  4008   5577\n",
       "All       3625  1885  8409  13919"
      ]
     },
     "execution_count": 23,
     "metadata": {},
     "output_type": "execute_result"
    }
   ],
   "source": [
    "# margins=True nos permite visualizar también las frecuencias marginales, es decir, los totales por fila y por columna\n",
    "\n",
    "pd.crosstab(index=df[\"BigDelay\"], columns=df[\"Origin\"], margins=True)"
   ]
  },
  {
   "cell_type": "code",
   "execution_count": 26,
   "metadata": {},
   "outputs": [],
   "source": [
    "tabla_contingencia = pd.crosstab(index=df[\"BigDelay\"], columns=df[\"Origin\"], margins=True)"
   ]
  },
  {
   "cell_type": "markdown",
   "metadata": {},
   "source": [
    "### Realización del test de Chi cuadrado"
   ]
  },
  {
   "cell_type": "code",
   "execution_count": 27,
   "metadata": {},
   "outputs": [],
   "source": [
    "# Importamos los paquetes:\n",
    "\n",
    "from scipy.stats import chi2_contingency"
   ]
  },
  {
   "cell_type": "code",
   "execution_count": 32,
   "metadata": {},
   "outputs": [
    {
     "data": {
      "text/plain": [
       "(545.4625906718225,\n",
       " 1.3425426732110207e-114,\n",
       " 6,\n",
       " array([[ 2172.55190746,  1129.72699188,  5039.72110065,  8342.        ],\n",
       "        [ 1452.44809254,   755.27300812,  3369.27889935,  5577.        ],\n",
       "        [ 3625.        ,  1885.        ,  8409.        , 13919.        ]]))"
      ]
     },
     "execution_count": 32,
     "metadata": {},
     "output_type": "execute_result"
    }
   ],
   "source": [
    "# Realizamos el test en si mismo:\n",
    "\n",
    "resultado_test_chi2 = chi2_contingency(tabla_contingencia)\n",
    "resultado_test_chi2"
   ]
  },
  {
   "cell_type": "markdown",
   "metadata": {},
   "source": [
    "El método chi2_contigency(···) nos devuelve una tupla con varias posiciones:\n",
    "\n",
    "* **Pos [0]:** El estadístico, es decir, la suma de las diferencias al cuadrado.\n",
    "* **Pos [1]:** El p-valor\n",
    "* **Pos [2]:** ??\n",
    "* **Pos [3]:** Un array 2D cuya dimensionalidad es igual a la de la tabla de contigencias. Esta, es la tabla de valores esperados y es la que vamos a comparar con nuestra tabla de valores observados (es decir tabla_contingencia). Nótese que se obtienen decimales cuando deberían ser números enteros ya que hace referencia a frecuencias absolutas pero esto son cálculos teóricos\n",
    "\n",
    "Por tanto renombrando ligeramente y asignando nuevas variables:"
   ]
  },
  {
   "cell_type": "code",
   "execution_count": 49,
   "metadata": {},
   "outputs": [],
   "source": [
    "valores_observados = tabla_contingencia\n",
    "valores_esperados  = pd.DataFrame(\n",
    "                                   resultado_test_chi2[3],\n",
    "                                   index=valores_observados.index,\n",
    "                                   columns=valores_observados.columns)"
   ]
  },
  {
   "cell_type": "code",
   "execution_count": 50,
   "metadata": {},
   "outputs": [
    {
     "data": {
      "text/html": [
       "<div>\n",
       "<style scoped>\n",
       "    .dataframe tbody tr th:only-of-type {\n",
       "        vertical-align: middle;\n",
       "    }\n",
       "\n",
       "    .dataframe tbody tr th {\n",
       "        vertical-align: top;\n",
       "    }\n",
       "\n",
       "    .dataframe thead th {\n",
       "        text-align: right;\n",
       "    }\n",
       "</style>\n",
       "<table border=\"1\" class=\"dataframe\">\n",
       "  <thead>\n",
       "    <tr style=\"text-align: right;\">\n",
       "      <th>Origin</th>\n",
       "      <th>HOU</th>\n",
       "      <th>IND</th>\n",
       "      <th>SFO</th>\n",
       "      <th>All</th>\n",
       "    </tr>\n",
       "    <tr>\n",
       "      <th>BigDelay</th>\n",
       "      <th></th>\n",
       "      <th></th>\n",
       "      <th></th>\n",
       "      <th></th>\n",
       "    </tr>\n",
       "  </thead>\n",
       "  <tbody>\n",
       "    <tr>\n",
       "      <th>False</th>\n",
       "      <td>2172.551907</td>\n",
       "      <td>1129.726992</td>\n",
       "      <td>5039.721101</td>\n",
       "      <td>8342.0</td>\n",
       "    </tr>\n",
       "    <tr>\n",
       "      <th>True</th>\n",
       "      <td>1452.448093</td>\n",
       "      <td>755.273008</td>\n",
       "      <td>3369.278899</td>\n",
       "      <td>5577.0</td>\n",
       "    </tr>\n",
       "    <tr>\n",
       "      <th>All</th>\n",
       "      <td>3625.000000</td>\n",
       "      <td>1885.000000</td>\n",
       "      <td>8409.000000</td>\n",
       "      <td>13919.0</td>\n",
       "    </tr>\n",
       "  </tbody>\n",
       "</table>\n",
       "</div>"
      ],
      "text/plain": [
       "Origin            HOU          IND          SFO      All\n",
       "BigDelay                                                \n",
       "False     2172.551907  1129.726992  5039.721101   8342.0\n",
       "True      1452.448093   755.273008  3369.278899   5577.0\n",
       "All       3625.000000  1885.000000  8409.000000  13919.0"
      ]
     },
     "execution_count": 50,
     "metadata": {},
     "output_type": "execute_result"
    }
   ],
   "source": [
    "valores_esperados"
   ]
  },
  {
   "cell_type": "markdown",
   "metadata": {},
   "source": [
    "Ahora lo que haremos es calcular las frecuencias relativas de valores observados y esperados.\n",
    "\n",
    "Esto lo hago porque comparar valores relativos es siempre más sencillo que comparar absolutos"
   ]
  },
  {
   "cell_type": "code",
   "execution_count": 54,
   "metadata": {},
   "outputs": [
    {
     "name": "stdout",
     "output_type": "stream",
     "text": [
      "*****   Valores Observados   *****\n"
     ]
    },
    {
     "data": {
      "text/html": [
       "<div>\n",
       "<style scoped>\n",
       "    .dataframe tbody tr th:only-of-type {\n",
       "        vertical-align: middle;\n",
       "    }\n",
       "\n",
       "    .dataframe tbody tr th {\n",
       "        vertical-align: top;\n",
       "    }\n",
       "\n",
       "    .dataframe thead th {\n",
       "        text-align: right;\n",
       "    }\n",
       "</style>\n",
       "<table border=\"1\" class=\"dataframe\">\n",
       "  <thead>\n",
       "    <tr style=\"text-align: right;\">\n",
       "      <th>Origin</th>\n",
       "      <th>HOU</th>\n",
       "      <th>IND</th>\n",
       "      <th>SFO</th>\n",
       "      <th>All</th>\n",
       "    </tr>\n",
       "    <tr>\n",
       "      <th>BigDelay</th>\n",
       "      <th></th>\n",
       "      <th></th>\n",
       "      <th></th>\n",
       "      <th></th>\n",
       "    </tr>\n",
       "  </thead>\n",
       "  <tbody>\n",
       "    <tr>\n",
       "      <th>False</th>\n",
       "      <td>19.36</td>\n",
       "      <td>8.95</td>\n",
       "      <td>31.62</td>\n",
       "      <td>59.93</td>\n",
       "    </tr>\n",
       "    <tr>\n",
       "      <th>True</th>\n",
       "      <td>6.68</td>\n",
       "      <td>4.59</td>\n",
       "      <td>28.80</td>\n",
       "      <td>40.07</td>\n",
       "    </tr>\n",
       "    <tr>\n",
       "      <th>All</th>\n",
       "      <td>26.04</td>\n",
       "      <td>13.54</td>\n",
       "      <td>60.41</td>\n",
       "      <td>100.00</td>\n",
       "    </tr>\n",
       "  </tbody>\n",
       "</table>\n",
       "</div>"
      ],
      "text/plain": [
       "Origin      HOU    IND    SFO     All\n",
       "BigDelay                             \n",
       "False     19.36   8.95  31.62   59.93\n",
       "True       6.68   4.59  28.80   40.07\n",
       "All       26.04  13.54  60.41  100.00"
      ]
     },
     "execution_count": 54,
     "metadata": {},
     "output_type": "execute_result"
    }
   ],
   "source": [
    "print(\"*****   Valores Observados   *****\")\n",
    "valores_observados_rel = round(valores_observados.apply(lambda r: r/len(df)*100),2)\n",
    "valores_observados_rel"
   ]
  },
  {
   "cell_type": "code",
   "execution_count": 53,
   "metadata": {},
   "outputs": [
    {
     "name": "stdout",
     "output_type": "stream",
     "text": [
      "*****   Valores Esperados   *****\n"
     ]
    },
    {
     "data": {
      "text/html": [
       "<div>\n",
       "<style scoped>\n",
       "    .dataframe tbody tr th:only-of-type {\n",
       "        vertical-align: middle;\n",
       "    }\n",
       "\n",
       "    .dataframe tbody tr th {\n",
       "        vertical-align: top;\n",
       "    }\n",
       "\n",
       "    .dataframe thead th {\n",
       "        text-align: right;\n",
       "    }\n",
       "</style>\n",
       "<table border=\"1\" class=\"dataframe\">\n",
       "  <thead>\n",
       "    <tr style=\"text-align: right;\">\n",
       "      <th>Origin</th>\n",
       "      <th>HOU</th>\n",
       "      <th>IND</th>\n",
       "      <th>SFO</th>\n",
       "      <th>All</th>\n",
       "    </tr>\n",
       "    <tr>\n",
       "      <th>BigDelay</th>\n",
       "      <th></th>\n",
       "      <th></th>\n",
       "      <th></th>\n",
       "      <th></th>\n",
       "    </tr>\n",
       "  </thead>\n",
       "  <tbody>\n",
       "    <tr>\n",
       "      <th>False</th>\n",
       "      <td>15.61</td>\n",
       "      <td>8.12</td>\n",
       "      <td>36.21</td>\n",
       "      <td>59.93</td>\n",
       "    </tr>\n",
       "    <tr>\n",
       "      <th>True</th>\n",
       "      <td>10.44</td>\n",
       "      <td>5.43</td>\n",
       "      <td>24.21</td>\n",
       "      <td>40.07</td>\n",
       "    </tr>\n",
       "    <tr>\n",
       "      <th>All</th>\n",
       "      <td>26.04</td>\n",
       "      <td>13.54</td>\n",
       "      <td>60.41</td>\n",
       "      <td>100.00</td>\n",
       "    </tr>\n",
       "  </tbody>\n",
       "</table>\n",
       "</div>"
      ],
      "text/plain": [
       "Origin      HOU    IND    SFO     All\n",
       "BigDelay                             \n",
       "False     15.61   8.12  36.21   59.93\n",
       "True      10.44   5.43  24.21   40.07\n",
       "All       26.04  13.54  60.41  100.00"
      ]
     },
     "execution_count": 53,
     "metadata": {},
     "output_type": "execute_result"
    }
   ],
   "source": [
    "print(\"*****   Valores Esperados   *****\")\n",
    "valores_esperados_rel = round(valores_esperados.apply(lambda r: r/len(df)*100),2)\n",
    "valores_esperados_rel"
   ]
  },
  {
   "cell_type": "markdown",
   "metadata": {},
   "source": [
    "Al comparar ambas tablas vemos que los margenes se han mantenido, sino, es que algo hemos hecho mal :/\n",
    "\n",
    "Lo que hace el test por nosotros es comparar si el 24.21 de True-SFO en valores esperados es SUFICIENTEMENTE menor que el 28.80 de True-SFO en términos estadísticos.\n",
    "\n",
    "### Empleando el p-valor para conocer el resultado del test de hipótesis:\n",
    "\n",
    "En este caso el \"significado\" que se le puede atribuir al p-valor es el de la probabilidad de que las relaciones sean mucho más extremas de lo que hemos visto en nuestros datos si comparamos con la situación donde no hay ninguna relación.\n",
    "\n",
    "Dicho de otra forma, es un indicador de como de extraño sería ver nuestros datos sino hubiese relación entre variables.\n",
    "\n",
    "**En cristiano:**\n",
    "\n",
    "* Si el p-valor < 0.05 hay diferencias significativas --> Hay relación entre las variables\n",
    "* Si el p-valor > 0.05 **NO HAY** diferencias significativas --> Las variables no están relacionadas."
   ]
  },
  {
   "cell_type": "code",
   "execution_count": 55,
   "metadata": {},
   "outputs": [
    {
     "data": {
      "text/plain": [
       "1.3425426732110207e-114"
      ]
     },
     "execution_count": 55,
     "metadata": {},
     "output_type": "execute_result"
    }
   ],
   "source": [
    "# En nuestro caso concreto:\n",
    "\n",
    "p_valor = resultado_test_chi2[1]\n",
    "p_valor"
   ]
  },
  {
   "cell_type": "markdown",
   "metadata": {},
   "source": [
    "Podemos afirmar que SÍ HAY relación entre variables y los retrasos de los vuelos están influenciados por los aeropuertos de origen y/o viceversa."
   ]
  }
 ],
 "metadata": {
  "kernelspec": {
   "display_name": "Python 3",
   "language": "python",
   "name": "python3"
  },
  "language_info": {
   "codemirror_mode": {
    "name": "ipython",
    "version": 3
   },
   "file_extension": ".py",
   "mimetype": "text/x-python",
   "name": "python",
   "nbconvert_exporter": "python",
   "pygments_lexer": "ipython3",
   "version": "3.7.7"
  }
 },
 "nbformat": 4,
 "nbformat_minor": 4
}

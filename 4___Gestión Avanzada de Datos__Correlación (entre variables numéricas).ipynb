{
 "cells": [
  {
   "cell_type": "markdown",
   "metadata": {},
   "source": [
    "# Análisis de Correlación entre 2 variables (numéricas)\n",
    "\n",
    "NO CAUSALIDAD!!!!"
   ]
  },
  {
   "cell_type": "code",
   "execution_count": 15,
   "metadata": {},
   "outputs": [],
   "source": [
    "import pandas as pd\n",
    "import numpy as np\n",
    "df = pd.read_csv(\"./data_src/DelayedFlights.csv\", nrows=250000)"
   ]
  },
  {
   "cell_type": "markdown",
   "metadata": {},
   "source": [
    "## Correlación con el paquete Numpy"
   ]
  },
  {
   "cell_type": "code",
   "execution_count": 7,
   "metadata": {},
   "outputs": [
    {
     "data": {
      "text/plain": [
       "array([[nan, nan],\n",
       "       [nan,  1.]])"
      ]
     },
     "execution_count": 7,
     "metadata": {},
     "output_type": "execute_result"
    }
   ],
   "source": [
    "# Función Numpy para el cálculo de la correlación:  np.corrcoef(···)\n",
    "\n",
    "np.corrcoef(df[\"ArrDelay\"],df[\"DepDelay\"])"
   ]
  },
  {
   "cell_type": "code",
   "execution_count": 8,
   "metadata": {},
   "outputs": [],
   "source": [
    "# La función np.corrcoef(···) no admite conjuntos de datos con NaN así que debemos quitarnoslos\n",
    "df.dropna(subset=[\"ArrDelay\",\"DepDelay\"], inplace=True)"
   ]
  },
  {
   "cell_type": "code",
   "execution_count": 10,
   "metadata": {},
   "outputs": [
    {
     "data": {
      "text/plain": [
       "array([[1.       , 0.9539141],\n",
       "       [0.9539141, 1.       ]])"
      ]
     },
     "execution_count": 10,
     "metadata": {},
     "output_type": "execute_result"
    }
   ],
   "source": [
    "np.corrcoef(df[\"ArrDelay\"],df[\"DepDelay\"])"
   ]
  },
  {
   "cell_type": "markdown",
   "metadata": {},
   "source": [
    "Las variables están altamente correlacionadas\n",
    "\n",
    "## Correlación con el paquete Pandas"
   ]
  },
  {
   "cell_type": "code",
   "execution_count": 16,
   "metadata": {},
   "outputs": [
    {
     "data": {
      "text/html": [
       "<div>\n",
       "<style scoped>\n",
       "    .dataframe tbody tr th:only-of-type {\n",
       "        vertical-align: middle;\n",
       "    }\n",
       "\n",
       "    .dataframe tbody tr th {\n",
       "        vertical-align: top;\n",
       "    }\n",
       "\n",
       "    .dataframe thead th {\n",
       "        text-align: right;\n",
       "    }\n",
       "</style>\n",
       "<table border=\"1\" class=\"dataframe\">\n",
       "  <thead>\n",
       "    <tr style=\"text-align: right;\">\n",
       "      <th></th>\n",
       "      <th>ArrDelay</th>\n",
       "      <th>DepDelay</th>\n",
       "      <th>DepTime</th>\n",
       "    </tr>\n",
       "  </thead>\n",
       "  <tbody>\n",
       "    <tr>\n",
       "      <th>ArrDelay</th>\n",
       "      <td>1.000000</td>\n",
       "      <td>0.953914</td>\n",
       "      <td>0.131727</td>\n",
       "    </tr>\n",
       "    <tr>\n",
       "      <th>DepDelay</th>\n",
       "      <td>0.953914</td>\n",
       "      <td>1.000000</td>\n",
       "      <td>0.151362</td>\n",
       "    </tr>\n",
       "    <tr>\n",
       "      <th>DepTime</th>\n",
       "      <td>0.131727</td>\n",
       "      <td>0.151362</td>\n",
       "      <td>1.000000</td>\n",
       "    </tr>\n",
       "  </tbody>\n",
       "</table>\n",
       "</div>"
      ],
      "text/plain": [
       "          ArrDelay  DepDelay   DepTime\n",
       "ArrDelay  1.000000  0.953914  0.131727\n",
       "DepDelay  0.953914  1.000000  0.151362\n",
       "DepTime   0.131727  0.151362  1.000000"
      ]
     },
     "execution_count": 16,
     "metadata": {},
     "output_type": "execute_result"
    }
   ],
   "source": [
    "df[[\"ArrDelay\",\"DepDelay\",\"DepTime\"]].corr()"
   ]
  },
  {
   "cell_type": "markdown",
   "metadata": {},
   "source": [
    "## Visualizando la correlación con el paquete Pandas y estilos\n",
    "\n",
    "#### Una especie de heatmap"
   ]
  },
  {
   "cell_type": "code",
   "execution_count": 21,
   "metadata": {},
   "outputs": [],
   "source": [
    "corr_mtx_df = df[[\"ArrDelay\",\"DepDelay\",\"DepTime\"]].corr()"
   ]
  },
  {
   "cell_type": "code",
   "execution_count": 23,
   "metadata": {},
   "outputs": [
    {
     "data": {
      "text/html": [
       "<style  type=\"text/css\" >\n",
       "#T_73ee4aba_1527_11eb_b10b_dc8b286f2f1arow0_col0,#T_73ee4aba_1527_11eb_b10b_dc8b286f2f1arow1_col1,#T_73ee4aba_1527_11eb_b10b_dc8b286f2f1arow2_col2{\n",
       "            background-color:  #023858;\n",
       "            color:  #f1f1f1;\n",
       "        }#T_73ee4aba_1527_11eb_b10b_dc8b286f2f1arow0_col1,#T_73ee4aba_1527_11eb_b10b_dc8b286f2f1arow1_col0{\n",
       "            background-color:  #03466e;\n",
       "            color:  #f1f1f1;\n",
       "        }#T_73ee4aba_1527_11eb_b10b_dc8b286f2f1arow0_col2,#T_73ee4aba_1527_11eb_b10b_dc8b286f2f1arow2_col0,#T_73ee4aba_1527_11eb_b10b_dc8b286f2f1arow2_col1{\n",
       "            background-color:  #fff7fb;\n",
       "            color:  #000000;\n",
       "        }#T_73ee4aba_1527_11eb_b10b_dc8b286f2f1arow1_col2{\n",
       "            background-color:  #fcf4fa;\n",
       "            color:  #000000;\n",
       "        }</style><table id=\"T_73ee4aba_1527_11eb_b10b_dc8b286f2f1a\" ><thead>    <tr>        <th class=\"blank level0\" ></th>        <th class=\"col_heading level0 col0\" >ArrDelay</th>        <th class=\"col_heading level0 col1\" >DepDelay</th>        <th class=\"col_heading level0 col2\" >DepTime</th>    </tr></thead><tbody>\n",
       "                <tr>\n",
       "                        <th id=\"T_73ee4aba_1527_11eb_b10b_dc8b286f2f1alevel0_row0\" class=\"row_heading level0 row0\" >ArrDelay</th>\n",
       "                        <td id=\"T_73ee4aba_1527_11eb_b10b_dc8b286f2f1arow0_col0\" class=\"data row0 col0\" >1.000000</td>\n",
       "                        <td id=\"T_73ee4aba_1527_11eb_b10b_dc8b286f2f1arow0_col1\" class=\"data row0 col1\" >0.953914</td>\n",
       "                        <td id=\"T_73ee4aba_1527_11eb_b10b_dc8b286f2f1arow0_col2\" class=\"data row0 col2\" >0.131727</td>\n",
       "            </tr>\n",
       "            <tr>\n",
       "                        <th id=\"T_73ee4aba_1527_11eb_b10b_dc8b286f2f1alevel0_row1\" class=\"row_heading level0 row1\" >DepDelay</th>\n",
       "                        <td id=\"T_73ee4aba_1527_11eb_b10b_dc8b286f2f1arow1_col0\" class=\"data row1 col0\" >0.953914</td>\n",
       "                        <td id=\"T_73ee4aba_1527_11eb_b10b_dc8b286f2f1arow1_col1\" class=\"data row1 col1\" >1.000000</td>\n",
       "                        <td id=\"T_73ee4aba_1527_11eb_b10b_dc8b286f2f1arow1_col2\" class=\"data row1 col2\" >0.151362</td>\n",
       "            </tr>\n",
       "            <tr>\n",
       "                        <th id=\"T_73ee4aba_1527_11eb_b10b_dc8b286f2f1alevel0_row2\" class=\"row_heading level0 row2\" >DepTime</th>\n",
       "                        <td id=\"T_73ee4aba_1527_11eb_b10b_dc8b286f2f1arow2_col0\" class=\"data row2 col0\" >0.131727</td>\n",
       "                        <td id=\"T_73ee4aba_1527_11eb_b10b_dc8b286f2f1arow2_col1\" class=\"data row2 col1\" >0.151362</td>\n",
       "                        <td id=\"T_73ee4aba_1527_11eb_b10b_dc8b286f2f1arow2_col2\" class=\"data row2 col2\" >1.000000</td>\n",
       "            </tr>\n",
       "    </tbody></table>"
      ],
      "text/plain": [
       "<pandas.io.formats.style.Styler at 0x29508531308>"
      ]
     },
     "execution_count": 23,
     "metadata": {},
     "output_type": "execute_result"
    }
   ],
   "source": [
    "corr_mtx_df.style.background_gradient()"
   ]
  },
  {
   "cell_type": "code",
   "execution_count": null,
   "metadata": {},
   "outputs": [],
   "source": []
  }
 ],
 "metadata": {
  "kernelspec": {
   "display_name": "Python 3",
   "language": "python",
   "name": "python3"
  },
  "language_info": {
   "codemirror_mode": {
    "name": "ipython",
    "version": 3
   },
   "file_extension": ".py",
   "mimetype": "text/x-python",
   "name": "python",
   "nbconvert_exporter": "python",
   "pygments_lexer": "ipython3",
   "version": "3.7.7"
  }
 },
 "nbformat": 4,
 "nbformat_minor": 4
}
